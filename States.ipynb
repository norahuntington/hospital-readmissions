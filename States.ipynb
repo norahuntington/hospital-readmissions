{
 "cells": [
  {
   "cell_type": "code",
   "execution_count": 4,
   "metadata": {},
   "outputs": [],
   "source": [
    "import pandas as pd\n",
    "import numpy as np\n",
    "import scipy.stats as stats\n",
    "import matplotlib.pyplot as plt\n",
    "%matplotlib inline\n",
    "plt.style.use('ggplot')\n",
    "\n",
    "import seaborn as sns\n",
    "sns.set(style=\"ticks\", color_codes=True)"
   ]
  },
  {
   "cell_type": "code",
   "execution_count": 5,
   "metadata": {},
   "outputs": [],
   "source": [
    "data = pd.read_csv('Hospital_Readmissions_Reduction_Program.csv')\n",
    "\n",
    "too_few = data[data['Number of Readmissions'] == 'Too Few to Report']\n",
    "is_null = data.loc[pd.isnull(data['Number of Discharges']) \n",
    "                   & pd.isnull(data['Number of Readmissions'])]\n",
    "not_null = data.loc[pd.notnull(data['Number of Discharges']) \n",
    "                    | pd.notnull(data['Number of Readmissions'])]\n",
    "not_zero = not_null[not_null['Number of Discharges'] != 0]\n",
    "clean_data = not_zero.replace('Too Few to Report', np.NaN)\n",
    "clean_data['Number of Readmissions'] = clean_data['Number of Readmissions'].astype(float)\n",
    "\n",
    "clean_data['Readmissions Rate'] = clean_data['Number of Readmissions'] / clean_data['Number of Discharges'] *100\n",
    "clean_data['Actual Excess Readmission Ratio'] = clean_data['Readmissions Rate'] / clean_data['Expected Readmission Rate']"
   ]
  },
  {
   "cell_type": "code",
   "execution_count": 6,
   "metadata": {},
   "outputs": [],
   "source": [
    "def filter(data, col_name, filter_value):\n",
    "    return data[data[col_name] == filter_value]"
   ]
  },
  {
   "cell_type": "code",
   "execution_count": null,
   "metadata": {},
   "outputs": [],
   "source": []
  }
 ],
 "metadata": {
  "kernelspec": {
   "display_name": "Python 3",
   "language": "python",
   "name": "python3"
  },
  "language_info": {
   "codemirror_mode": {
    "name": "ipython",
    "version": 3
   },
   "file_extension": ".py",
   "mimetype": "text/x-python",
   "name": "python",
   "nbconvert_exporter": "python",
   "pygments_lexer": "ipython3",
   "version": "3.7.7"
  }
 },
 "nbformat": 4,
 "nbformat_minor": 4
}
