{
 "cells": [
  {
   "cell_type": "code",
   "execution_count": 8,
   "metadata": {},
   "outputs": [],
   "source": [
    "import pandas as pd\n",
    "import numpy as np\n",
    "import scipy.stats as stats\n",
    "import matplotlib.pyplot as plt\n",
    "%matplotlib inline\n",
    "plt.style.use('ggplot')\n",
    "\n",
    "import seaborn as sns\n",
    "sns.set(style=\"ticks\", color_codes=True)\n",
    "\n",
    "data = pd.read_csv('Hospital_Readmissions_Reduction_Program.csv')\n",
    "\n",
    "too_few = data[data['Number of Readmissions'] == 'Too Few to Report']\n",
    "is_null = data.loc[pd.isnull(data['Number of Discharges']) \n",
    "                   & pd.isnull(data['Number of Readmissions'])]\n",
    "not_null = data.loc[pd.notnull(data['Number of Discharges']) \n",
    "                    | pd.notnull(data['Number of Readmissions'])]\n",
    "not_zero = not_null[not_null['Number of Discharges'] != 0]\n",
    "clean_data = not_zero.replace('Too Few to Report', np.NaN)\n",
    "clean_data['Number of Readmissions'] = clean_data['Number of Readmissions'].astype(float)\n",
    "\n",
    "clean_data['Readmissions Rate'] = clean_data['Number of Readmissions'] / clean_data['Number of Discharges'] *100\n",
    "clean_data['Actual Excess Readmission Ratio'] = clean_data['Readmissions Rate'] / clean_data['Expected Readmission Rate']\n",
    "\n",
    "temp_ = clean_data.groupby('Facility ID').count().reset_index().copy()\n",
    "type_fac = pd.DataFrame({'Facility ID': temp_['Facility ID'],\n",
    "                         'Number of Departments': temp_['Facility Name']})\n",
    "conditions = [type_fac['Number of Departments'] > 4,\n",
    "             (type_fac['Number of Departments'] >= 3) & (type_fac['Number of Departments'] <= 4),\n",
    "             type_fac['Number of Departments'] < 3]\n",
    "values = ['General', 'Neither', 'Specialized']\n",
    "type_fac['Type'] = np.select(conditions,values)\n",
    "data_dept = pd.merge(clean_data, type_fac, on='Facility ID', how='left')\n",
    "\n",
    "def filter(data, col_name, filter_value):\n",
    "    return data[data[col_name] == filter_value]\n",
    "\n",
    "diagnosis_lst = ['READM-30-AMI-HRRP',\n",
    "                 'READM-30-CABG-HRRP',\n",
    "                 'READM-30-COPD-HRRP',\n",
    "                 'READM-30-HF-HRRP',\n",
    "                 'READM-30-HIP-KNEE-HRRP',\n",
    "                 'READM-30-PN-HRRP']\n",
    "\n",
    "type_lst = ['General','Neither','Specialized']"
   ]
  },
  {
   "cell_type": "code",
   "execution_count": 3,
   "metadata": {},
   "outputs": [],
   "source": [
    "d= {}\n",
    "for name in diagnosis_lst:\n",
    "    d[name] = filter(data_dept, 'Measure Name', name)"
   ]
  },
  {
   "cell_type": "code",
   "execution_count": 6,
   "metadata": {},
   "outputs": [],
   "source": [
    "d['READM-30-AMI-HRRP'];"
   ]
  },
  {
   "cell_type": "code",
   "execution_count": 14,
   "metadata": {},
   "outputs": [],
   "source": [
    "def discharges_readmissions_by_type(measure_name):\n",
    "    by_type_lst = []\n",
    "    for type in type_lst:\n",
    "        discharges = filter(d[measure_name], 'Type', type)['Number of Discharges'].sum()\n",
    "        readmissions = filter(d[measure_name], 'Type', type)['Number of Readmissions'].sum()\n",
    "        rate = readmissions / discharges\n",
    "        by_type_lst.append([discharges, readmissions, rate])\n",
    "    return by_type_lst"
   ]
  },
  {
   "cell_type": "code",
   "execution_count": 15,
   "metadata": {},
   "outputs": [
    {
     "data": {
      "text/plain": [
       "[[440926.0, 67121.0, 0.1522273578786463],\n",
       " [9729.0, 1807.0, 0.18573337444752802],\n",
       " [357.0, 41.0, 0.11484593837535013]]"
      ]
     },
     "execution_count": 15,
     "metadata": {},
     "output_type": "execute_result"
    }
   ],
   "source": [
    "discharges_readmissions_by_type('READM-30-AMI-HRRP')"
   ]
  },
  {
   "cell_type": "code",
   "execution_count": 19,
   "metadata": {},
   "outputs": [
    {
     "data": {
      "text/plain": [
       "[[722829.0, 29623.0, 0.04098203032805823],\n",
       " [28162.0, 1196.0, 0.0424685746750941],\n",
       " [81244.0, 2446.0, 0.030106838658854808]]"
      ]
     },
     "execution_count": 19,
     "metadata": {},
     "output_type": "execute_result"
    }
   ],
   "source": [
    "discharges_readmissions_by_type('READM-30-HIP-KNEE-HRRP')"
   ]
  },
  {
   "cell_type": "code",
   "execution_count": 21,
   "metadata": {},
   "outputs": [],
   "source": [
    "total_discharged = discharges_readmissions_by_type('READM-30-HIP-KNEE-HRRP')[0][0] + discharges_readmissions_by_type('READM-30-HIP-KNEE-HRRP')[2][0]\n",
    "    \n",
    "total_readmitted = discharges_readmissions_by_type('READM-30-HIP-KNEE-HRRP')[0][1] + discharges_readmissions_by_type('READM-30-HIP-KNEE-HRRP')[2][1]\n",
    "\n",
    "shared_sample_freq = total_readmitted / total_discharged\n",
    "denominator = discharges_readmissions_by_type('READM-30-HIP-KNEE-HRRP')[0][0] * discharges_readmissions_by_type('READM-30-HIP-KNEE-HRRP')[2][0]\n",
    "\n",
    "shared_sample_variance = total_discharged * (shared_sample_freq * (1 - shared_sample_freq)) / denominator\n",
    "\n",
    "difference_in_proportions = stats.norm(0, np.sqrt(shared_sample_variance))"
   ]
  },
  {
   "cell_type": "code",
   "execution_count": 22,
   "metadata": {},
   "outputs": [],
   "source": [
    "difference_in_sample_proportions = discharges_readmissions_by_type('READM-30-HIP-KNEE-HRRP')[0][2] - discharges_readmissions_by_type('READM-30-HIP-KNEE-HRRP')[2][2]"
   ]
  },
  {
   "cell_type": "code",
   "execution_count": 23,
   "metadata": {},
   "outputs": [
    {
     "data": {
      "text/plain": [
       "0.010875191669203421"
      ]
     },
     "execution_count": 23,
     "metadata": {},
     "output_type": "execute_result"
    }
   ],
   "source": [
    "difference_in_sample_proportions"
   ]
  },
  {
   "cell_type": "code",
   "execution_count": 25,
   "metadata": {},
   "outputs": [
    {
     "data": {
      "text/plain": [
       "0.0"
      ]
     },
     "execution_count": 25,
     "metadata": {},
     "output_type": "execute_result"
    }
   ],
   "source": [
    "p_value = 1 - difference_in_proportions.cdf(difference_in_sample_proportions)\n",
    "p_value"
   ]
  },
  {
   "cell_type": "code",
   "execution_count": null,
   "metadata": {},
   "outputs": [],
   "source": []
  },
  {
   "cell_type": "code",
   "execution_count": null,
   "metadata": {},
   "outputs": [],
   "source": []
  },
  {
   "cell_type": "code",
   "execution_count": 26,
   "metadata": {},
   "outputs": [
    {
     "data": {
      "text/plain": [
       "Ttest_indResult(statistic=-8.134923457842765, pvalue=1.314373319312116e-12)"
      ]
     },
     "execution_count": 26,
     "metadata": {},
     "output_type": "execute_result"
    }
   ],
   "source": [
    "a = filter(filter(data_dept,'Measure Name','READM-30-HIP-KNEE-HRRP'),'Type', 'Specialized')['Readmissions Rate']\n",
    "b = filter(filter(data_dept,'Measure Name','READM-30-HIP-KNEE-HRRP'),'Type', 'General')['Readmissions Rate']\n",
    "stats.ttest_ind(a,b, equal_var=False,nan_policy='omit')"
   ]
  },
  {
   "cell_type": "code",
   "execution_count": null,
   "metadata": {},
   "outputs": [],
   "source": []
  },
  {
   "cell_type": "code",
   "execution_count": 41,
   "metadata": {},
   "outputs": [
    {
     "data": {
      "text/plain": [
       "(1.2946566533421437, 3.16924663711317, 4.463903290455313)"
      ]
     },
     "execution_count": 41,
     "metadata": {},
     "output_type": "execute_result"
    }
   ],
   "source": [
    "np.var(a), np.var(b), np.var(a) + np.var(b)"
   ]
  },
  {
   "cell_type": "code",
   "execution_count": 42,
   "metadata": {},
   "outputs": [],
   "source": [
    "difference_in_proportions2 = stats.norm(0, np.sqrt(np.var(a) + np.var(b)))"
   ]
  },
  {
   "cell_type": "code",
   "execution_count": 43,
   "metadata": {},
   "outputs": [
    {
     "data": {
      "text/plain": [
       "0.0"
      ]
     },
     "execution_count": 43,
     "metadata": {},
     "output_type": "execute_result"
    }
   ],
   "source": [
    "p_value2 = 1 - difference_in_proportions2.cdf(difference_in_sample_proportions)\n",
    "p_value"
   ]
  },
  {
   "cell_type": "code",
   "execution_count": null,
   "metadata": {},
   "outputs": [],
   "source": []
  },
  {
   "cell_type": "code",
   "execution_count": 27,
   "metadata": {},
   "outputs": [
    {
     "data": {
      "text/plain": [
       "(81244.0, 2446.0, 0.030106838658854808, 722829.0, 29623.0, 0.04098203032805823)"
      ]
     },
     "execution_count": 27,
     "metadata": {},
     "output_type": "execute_result"
    }
   ],
   "source": [
    "dis_sp=filter(filter(data_dept,'Measure Name','READM-30-HIP-KNEE-HRRP'),'Type', 'Specialized')['Number of Discharges'].sum()\n",
    "read_sp=filter(filter(data_dept,'Measure Name','READM-30-HIP-KNEE-HRRP'),'Type', 'Specialized')['Number of Readmissions'].sum()\n",
    "\n",
    "dis_g=filter(filter(data_dept,'Measure Name','READM-30-HIP-KNEE-HRRP'),'Type', 'General')['Number of Discharges'].sum()\n",
    "read_g=filter(filter(data_dept,'Measure Name','READM-30-HIP-KNEE-HRRP'),'Type', 'General')['Number of Readmissions'].sum()\n",
    "\n",
    "dis_sp, read_sp, read_sp/dis_sp, dis_g, read_g, read_g/dis_g"
   ]
  },
  {
   "cell_type": "code",
   "execution_count": 33,
   "metadata": {},
   "outputs": [],
   "source": [
    "binomial = stats.binom(n=81244, p=read_sp/dis_sp)"
   ]
  },
  {
   "cell_type": "code",
   "execution_count": 34,
   "metadata": {},
   "outputs": [
    {
     "data": {
      "text/plain": [
       "3329.5440719727626"
      ]
     },
     "execution_count": 34,
     "metadata": {},
     "output_type": "execute_result"
    }
   ],
   "source": [
    "read_g/dis_g * 81244"
   ]
  },
  {
   "cell_type": "code",
   "execution_count": 35,
   "metadata": {},
   "outputs": [
    {
     "data": {
      "text/plain": [
       "1.1102230246251565e-16"
      ]
     },
     "execution_count": 35,
     "metadata": {},
     "output_type": "execute_result"
    }
   ],
   "source": [
    "prob_equal_or_more_extreme = 1 - binomial.cdf(3329)\n",
    "prob_equal_or_more_extreme"
   ]
  },
  {
   "cell_type": "code",
   "execution_count": 45,
   "metadata": {},
   "outputs": [
    {
     "data": {
      "text/html": [
       "<div>\n",
       "<style scoped>\n",
       "    .dataframe tbody tr th:only-of-type {\n",
       "        vertical-align: middle;\n",
       "    }\n",
       "\n",
       "    .dataframe tbody tr th {\n",
       "        vertical-align: top;\n",
       "    }\n",
       "\n",
       "    .dataframe thead th {\n",
       "        text-align: right;\n",
       "    }\n",
       "</style>\n",
       "<table border=\"1\" class=\"dataframe\">\n",
       "  <thead>\n",
       "    <tr style=\"text-align: right;\">\n",
       "      <th></th>\n",
       "      <th>Facility Name</th>\n",
       "      <th>Facility ID</th>\n",
       "      <th>State</th>\n",
       "      <th>Measure Name</th>\n",
       "      <th>Number of Discharges</th>\n",
       "      <th>Footnote</th>\n",
       "      <th>Excess Readmission Ratio</th>\n",
       "      <th>Predicted Readmission Rate</th>\n",
       "      <th>Expected Readmission Rate</th>\n",
       "      <th>Number of Readmissions</th>\n",
       "      <th>Start Date</th>\n",
       "      <th>End Date</th>\n",
       "      <th>Readmissions Rate</th>\n",
       "      <th>Actual Excess Readmission Ratio</th>\n",
       "      <th>Number of Departments</th>\n",
       "      <th>Type</th>\n",
       "    </tr>\n",
       "  </thead>\n",
       "  <tbody>\n",
       "    <tr>\n",
       "      <th>0</th>\n",
       "      <td>SOUTHEAST ALABAMA MEDICAL CENTER</td>\n",
       "      <td>10001</td>\n",
       "      <td>AL</td>\n",
       "      <td>READM-30-HIP-KNEE-HRRP</td>\n",
       "      <td>301.0</td>\n",
       "      <td>NaN</td>\n",
       "      <td>1.1787</td>\n",
       "      <td>5.5863</td>\n",
       "      <td>4.7392</td>\n",
       "      <td>20.0</td>\n",
       "      <td>07/01/2015</td>\n",
       "      <td>06/30/2018</td>\n",
       "      <td>6.644518</td>\n",
       "      <td>1.402034</td>\n",
       "      <td>6</td>\n",
       "      <td>General</td>\n",
       "    </tr>\n",
       "    <tr>\n",
       "      <th>1</th>\n",
       "      <td>SOUTHEAST ALABAMA MEDICAL CENTER</td>\n",
       "      <td>10001</td>\n",
       "      <td>AL</td>\n",
       "      <td>READM-30-CABG-HRRP</td>\n",
       "      <td>279.0</td>\n",
       "      <td>NaN</td>\n",
       "      <td>1.2361</td>\n",
       "      <td>14.5943</td>\n",
       "      <td>11.8065</td>\n",
       "      <td>46.0</td>\n",
       "      <td>07/01/2015</td>\n",
       "      <td>06/30/2018</td>\n",
       "      <td>16.487455</td>\n",
       "      <td>1.396473</td>\n",
       "      <td>6</td>\n",
       "      <td>General</td>\n",
       "    </tr>\n",
       "    <tr>\n",
       "      <th>2</th>\n",
       "      <td>SOUTHEAST ALABAMA MEDICAL CENTER</td>\n",
       "      <td>10001</td>\n",
       "      <td>AL</td>\n",
       "      <td>READM-30-AMI-HRRP</td>\n",
       "      <td>742.0</td>\n",
       "      <td>NaN</td>\n",
       "      <td>1.0446</td>\n",
       "      <td>15.2935</td>\n",
       "      <td>14.6404</td>\n",
       "      <td>116.0</td>\n",
       "      <td>07/01/2015</td>\n",
       "      <td>06/30/2018</td>\n",
       "      <td>15.633423</td>\n",
       "      <td>1.067828</td>\n",
       "      <td>6</td>\n",
       "      <td>General</td>\n",
       "    </tr>\n",
       "    <tr>\n",
       "      <th>3</th>\n",
       "      <td>SOUTHEAST ALABAMA MEDICAL CENTER</td>\n",
       "      <td>10001</td>\n",
       "      <td>AL</td>\n",
       "      <td>READM-30-HF-HRRP</td>\n",
       "      <td>1114.0</td>\n",
       "      <td>NaN</td>\n",
       "      <td>1.0453</td>\n",
       "      <td>22.3772</td>\n",
       "      <td>21.4082</td>\n",
       "      <td>252.0</td>\n",
       "      <td>07/01/2015</td>\n",
       "      <td>06/30/2018</td>\n",
       "      <td>22.621185</td>\n",
       "      <td>1.056660</td>\n",
       "      <td>6</td>\n",
       "      <td>General</td>\n",
       "    </tr>\n",
       "    <tr>\n",
       "      <th>4</th>\n",
       "      <td>SOUTHEAST ALABAMA MEDICAL CENTER</td>\n",
       "      <td>10001</td>\n",
       "      <td>AL</td>\n",
       "      <td>READM-30-COPD-HRRP</td>\n",
       "      <td>495.0</td>\n",
       "      <td>NaN</td>\n",
       "      <td>1.0249</td>\n",
       "      <td>18.6162</td>\n",
       "      <td>18.1637</td>\n",
       "      <td>94.0</td>\n",
       "      <td>07/01/2015</td>\n",
       "      <td>06/30/2018</td>\n",
       "      <td>18.989899</td>\n",
       "      <td>1.045486</td>\n",
       "      <td>6</td>\n",
       "      <td>General</td>\n",
       "    </tr>\n",
       "    <tr>\n",
       "      <th>...</th>\n",
       "      <td>...</td>\n",
       "      <td>...</td>\n",
       "      <td>...</td>\n",
       "      <td>...</td>\n",
       "      <td>...</td>\n",
       "      <td>...</td>\n",
       "      <td>...</td>\n",
       "      <td>...</td>\n",
       "      <td>...</td>\n",
       "      <td>...</td>\n",
       "      <td>...</td>\n",
       "      <td>...</td>\n",
       "      <td>...</td>\n",
       "      <td>...</td>\n",
       "      <td>...</td>\n",
       "      <td>...</td>\n",
       "    </tr>\n",
       "    <tr>\n",
       "      <th>14066</th>\n",
       "      <td>HOUSTON METHODIST THE WOODLANDS HOSPITAL</td>\n",
       "      <td>670122</td>\n",
       "      <td>TX</td>\n",
       "      <td>READM-30-AMI-HRRP</td>\n",
       "      <td>NaN</td>\n",
       "      <td>NaN</td>\n",
       "      <td>1.0168</td>\n",
       "      <td>16.6858</td>\n",
       "      <td>16.4107</td>\n",
       "      <td>NaN</td>\n",
       "      <td>07/01/2015</td>\n",
       "      <td>06/30/2018</td>\n",
       "      <td>NaN</td>\n",
       "      <td>NaN</td>\n",
       "      <td>5</td>\n",
       "      <td>General</td>\n",
       "    </tr>\n",
       "    <tr>\n",
       "      <th>14067</th>\n",
       "      <td>HOUSTON METHODIST THE WOODLANDS HOSPITAL</td>\n",
       "      <td>670122</td>\n",
       "      <td>TX</td>\n",
       "      <td>READM-30-COPD-HRRP</td>\n",
       "      <td>NaN</td>\n",
       "      <td>NaN</td>\n",
       "      <td>1.0240</td>\n",
       "      <td>18.6577</td>\n",
       "      <td>18.2205</td>\n",
       "      <td>NaN</td>\n",
       "      <td>07/01/2015</td>\n",
       "      <td>06/30/2018</td>\n",
       "      <td>NaN</td>\n",
       "      <td>NaN</td>\n",
       "      <td>5</td>\n",
       "      <td>General</td>\n",
       "    </tr>\n",
       "    <tr>\n",
       "      <th>14068</th>\n",
       "      <td>HOUSTON METHODIST THE WOODLANDS HOSPITAL</td>\n",
       "      <td>670122</td>\n",
       "      <td>TX</td>\n",
       "      <td>READM-30-HF-HRRP</td>\n",
       "      <td>79.0</td>\n",
       "      <td>NaN</td>\n",
       "      <td>1.0489</td>\n",
       "      <td>21.6269</td>\n",
       "      <td>20.6191</td>\n",
       "      <td>20.0</td>\n",
       "      <td>07/01/2015</td>\n",
       "      <td>06/30/2018</td>\n",
       "      <td>25.316456</td>\n",
       "      <td>1.227816</td>\n",
       "      <td>5</td>\n",
       "      <td>General</td>\n",
       "    </tr>\n",
       "    <tr>\n",
       "      <th>14069</th>\n",
       "      <td>HOUSTON METHODIST THE WOODLANDS HOSPITAL</td>\n",
       "      <td>670122</td>\n",
       "      <td>TX</td>\n",
       "      <td>READM-30-HIP-KNEE-HRRP</td>\n",
       "      <td>NaN</td>\n",
       "      <td>NaN</td>\n",
       "      <td>1.1380</td>\n",
       "      <td>4.5980</td>\n",
       "      <td>4.0405</td>\n",
       "      <td>NaN</td>\n",
       "      <td>07/01/2015</td>\n",
       "      <td>06/30/2018</td>\n",
       "      <td>NaN</td>\n",
       "      <td>NaN</td>\n",
       "      <td>5</td>\n",
       "      <td>General</td>\n",
       "    </tr>\n",
       "    <tr>\n",
       "      <th>14070</th>\n",
       "      <td>HOUSTON METHODIST THE WOODLANDS HOSPITAL</td>\n",
       "      <td>670122</td>\n",
       "      <td>TX</td>\n",
       "      <td>READM-30-PN-HRRP</td>\n",
       "      <td>104.0</td>\n",
       "      <td>NaN</td>\n",
       "      <td>1.0951</td>\n",
       "      <td>18.1421</td>\n",
       "      <td>16.5667</td>\n",
       "      <td>25.0</td>\n",
       "      <td>07/01/2015</td>\n",
       "      <td>06/30/2018</td>\n",
       "      <td>24.038462</td>\n",
       "      <td>1.451011</td>\n",
       "      <td>5</td>\n",
       "      <td>General</td>\n",
       "    </tr>\n",
       "  </tbody>\n",
       "</table>\n",
       "<p>14071 rows × 16 columns</p>\n",
       "</div>"
      ],
      "text/plain": [
       "                                  Facility Name  Facility ID State  \\\n",
       "0              SOUTHEAST ALABAMA MEDICAL CENTER        10001    AL   \n",
       "1              SOUTHEAST ALABAMA MEDICAL CENTER        10001    AL   \n",
       "2              SOUTHEAST ALABAMA MEDICAL CENTER        10001    AL   \n",
       "3              SOUTHEAST ALABAMA MEDICAL CENTER        10001    AL   \n",
       "4              SOUTHEAST ALABAMA MEDICAL CENTER        10001    AL   \n",
       "...                                         ...          ...   ...   \n",
       "14066  HOUSTON METHODIST THE WOODLANDS HOSPITAL       670122    TX   \n",
       "14067  HOUSTON METHODIST THE WOODLANDS HOSPITAL       670122    TX   \n",
       "14068  HOUSTON METHODIST THE WOODLANDS HOSPITAL       670122    TX   \n",
       "14069  HOUSTON METHODIST THE WOODLANDS HOSPITAL       670122    TX   \n",
       "14070  HOUSTON METHODIST THE WOODLANDS HOSPITAL       670122    TX   \n",
       "\n",
       "                 Measure Name  Number of Discharges  Footnote  \\\n",
       "0      READM-30-HIP-KNEE-HRRP                 301.0       NaN   \n",
       "1          READM-30-CABG-HRRP                 279.0       NaN   \n",
       "2           READM-30-AMI-HRRP                 742.0       NaN   \n",
       "3            READM-30-HF-HRRP                1114.0       NaN   \n",
       "4          READM-30-COPD-HRRP                 495.0       NaN   \n",
       "...                       ...                   ...       ...   \n",
       "14066       READM-30-AMI-HRRP                   NaN       NaN   \n",
       "14067      READM-30-COPD-HRRP                   NaN       NaN   \n",
       "14068        READM-30-HF-HRRP                  79.0       NaN   \n",
       "14069  READM-30-HIP-KNEE-HRRP                   NaN       NaN   \n",
       "14070        READM-30-PN-HRRP                 104.0       NaN   \n",
       "\n",
       "       Excess Readmission Ratio  Predicted Readmission Rate  \\\n",
       "0                        1.1787                      5.5863   \n",
       "1                        1.2361                     14.5943   \n",
       "2                        1.0446                     15.2935   \n",
       "3                        1.0453                     22.3772   \n",
       "4                        1.0249                     18.6162   \n",
       "...                         ...                         ...   \n",
       "14066                    1.0168                     16.6858   \n",
       "14067                    1.0240                     18.6577   \n",
       "14068                    1.0489                     21.6269   \n",
       "14069                    1.1380                      4.5980   \n",
       "14070                    1.0951                     18.1421   \n",
       "\n",
       "       Expected Readmission Rate  Number of Readmissions  Start Date  \\\n",
       "0                         4.7392                    20.0  07/01/2015   \n",
       "1                        11.8065                    46.0  07/01/2015   \n",
       "2                        14.6404                   116.0  07/01/2015   \n",
       "3                        21.4082                   252.0  07/01/2015   \n",
       "4                        18.1637                    94.0  07/01/2015   \n",
       "...                          ...                     ...         ...   \n",
       "14066                    16.4107                     NaN  07/01/2015   \n",
       "14067                    18.2205                     NaN  07/01/2015   \n",
       "14068                    20.6191                    20.0  07/01/2015   \n",
       "14069                     4.0405                     NaN  07/01/2015   \n",
       "14070                    16.5667                    25.0  07/01/2015   \n",
       "\n",
       "         End Date  Readmissions Rate  Actual Excess Readmission Ratio  \\\n",
       "0      06/30/2018           6.644518                         1.402034   \n",
       "1      06/30/2018          16.487455                         1.396473   \n",
       "2      06/30/2018          15.633423                         1.067828   \n",
       "3      06/30/2018          22.621185                         1.056660   \n",
       "4      06/30/2018          18.989899                         1.045486   \n",
       "...           ...                ...                              ...   \n",
       "14066  06/30/2018                NaN                              NaN   \n",
       "14067  06/30/2018                NaN                              NaN   \n",
       "14068  06/30/2018          25.316456                         1.227816   \n",
       "14069  06/30/2018                NaN                              NaN   \n",
       "14070  06/30/2018          24.038462                         1.451011   \n",
       "\n",
       "       Number of Departments     Type  \n",
       "0                          6  General  \n",
       "1                          6  General  \n",
       "2                          6  General  \n",
       "3                          6  General  \n",
       "4                          6  General  \n",
       "...                      ...      ...  \n",
       "14066                      5  General  \n",
       "14067                      5  General  \n",
       "14068                      5  General  \n",
       "14069                      5  General  \n",
       "14070                      5  General  \n",
       "\n",
       "[14071 rows x 16 columns]"
      ]
     },
     "execution_count": 45,
     "metadata": {},
     "output_type": "execute_result"
    }
   ],
   "source": [
    "data_dept"
   ]
  },
  {
   "cell_type": "code",
   "execution_count": null,
   "metadata": {},
   "outputs": [],
   "source": []
  }
 ],
 "metadata": {
  "kernelspec": {
   "display_name": "Python 3",
   "language": "python",
   "name": "python3"
  },
  "language_info": {
   "codemirror_mode": {
    "name": "ipython",
    "version": 3
   },
   "file_extension": ".py",
   "mimetype": "text/x-python",
   "name": "python",
   "nbconvert_exporter": "python",
   "pygments_lexer": "ipython3",
   "version": "3.7.7"
  }
 },
 "nbformat": 4,
 "nbformat_minor": 4
}
