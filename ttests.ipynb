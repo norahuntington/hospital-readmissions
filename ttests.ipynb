{
 "cells": [
  {
   "cell_type": "code",
   "execution_count": 8,
   "metadata": {},
   "outputs": [],
   "source": [
    "import pandas as pd\n",
    "import numpy as np\n",
    "import scipy.stats as stats\n",
    "import matplotlib.pyplot as plt\n",
    "%matplotlib inline\n",
    "plt.style.use('ggplot')\n",
    "\n",
    "import seaborn as sns\n",
    "sns.set(style=\"ticks\", color_codes=True)\n",
    "\n",
    "data = pd.read_csv('Hospital_Readmissions_Reduction_Program.csv')\n",
    "\n",
    "too_few = data[data['Number of Readmissions'] == 'Too Few to Report']\n",
    "is_null = data.loc[pd.isnull(data['Number of Discharges']) \n",
    "                   & pd.isnull(data['Number of Readmissions'])]\n",
    "not_null = data.loc[pd.notnull(data['Number of Discharges']) \n",
    "                    | pd.notnull(data['Number of Readmissions'])]\n",
    "not_zero = not_null[not_null['Number of Discharges'] != 0]\n",
    "clean_data = not_zero.replace('Too Few to Report', np.NaN)\n",
    "clean_data['Number of Readmissions'] = clean_data['Number of Readmissions'].astype(float)\n",
    "\n",
    "clean_data['Readmissions Rate'] = clean_data['Number of Readmissions'] / clean_data['Number of Discharges'] *100\n",
    "clean_data['Actual Excess Readmission Ratio'] = clean_data['Readmissions Rate'] / clean_data['Expected Readmission Rate']\n",
    "\n",
    "temp_ = clean_data.groupby('Facility ID').count().reset_index().copy()\n",
    "type_fac = pd.DataFrame({'Facility ID': temp_['Facility ID'],\n",
    "                         'Number of Departments': temp_['Facility Name']})\n",
    "conditions = [type_fac['Number of Departments'] > 4,\n",
    "             (type_fac['Number of Departments'] >= 3) & (type_fac['Number of Departments'] <= 4),\n",
    "             type_fac['Number of Departments'] < 3]\n",
    "values = ['General', 'Neither', 'Specialized']\n",
    "type_fac['Type'] = np.select(conditions,values)\n",
    "data_dept = pd.merge(clean_data, type_fac, on='Facility ID', how='left')\n",
    "\n",
    "def filter(data, col_name, filter_value):\n",
    "    return data[data[col_name] == filter_value]\n",
    "\n",
    "diagnosis_lst = ['READM-30-AMI-HRRP',\n",
    "                 'READM-30-CABG-HRRP',\n",
    "                 'READM-30-COPD-HRRP',\n",
    "                 'READM-30-HF-HRRP',\n",
    "                 'READM-30-HIP-KNEE-HRRP',\n",
    "                 'READM-30-PN-HRRP']\n",
    "\n",
    "type_lst = ['General','Neither','Specialized']"
   ]
  },
  {
   "cell_type": "code",
   "execution_count": 3,
   "metadata": {},
   "outputs": [],
   "source": [
    "d= {}\n",
    "for name in diagnosis_lst:\n",
    "    d[name] = filter(data_dept, 'Measure Name', name)"
   ]
  },
  {
   "cell_type": "code",
   "execution_count": 6,
   "metadata": {},
   "outputs": [],
   "source": [
    "d['READM-30-AMI-HRRP'];"
   ]
  },
  {
   "cell_type": "code",
   "execution_count": 14,
   "metadata": {},
   "outputs": [],
   "source": [
    "def discharges_readmissions_by_type(measure_name):\n",
    "    by_type_lst = []\n",
    "    for type in type_lst:\n",
    "        discharges = filter(d[measure_name], 'Type', type)['Number of Discharges'].sum()\n",
    "        readmissions = filter(d[measure_name], 'Type', type)['Number of Readmissions'].sum()\n",
    "        rate = readmissions / discharges\n",
    "        by_type_lst.append([discharges, readmissions, rate])\n",
    "    return by_type_lst"
   ]
  },
  {
   "cell_type": "code",
   "execution_count": 15,
   "metadata": {},
   "outputs": [
    {
     "data": {
      "text/plain": [
       "[[440926.0, 67121.0, 0.1522273578786463],\n",
       " [9729.0, 1807.0, 0.18573337444752802],\n",
       " [357.0, 41.0, 0.11484593837535013]]"
      ]
     },
     "execution_count": 15,
     "metadata": {},
     "output_type": "execute_result"
    }
   ],
   "source": [
    "discharges_readmissions_by_type('READM-30-AMI-HRRP')"
   ]
  },
  {
   "cell_type": "code",
   "execution_count": 19,
   "metadata": {},
   "outputs": [
    {
     "data": {
      "text/plain": [
       "[[722829.0, 29623.0, 0.04098203032805823],\n",
       " [28162.0, 1196.0, 0.0424685746750941],\n",
       " [81244.0, 2446.0, 0.030106838658854808]]"
      ]
     },
     "execution_count": 19,
     "metadata": {},
     "output_type": "execute_result"
    }
   ],
   "source": [
    "discharges_readmissions_by_type('READM-30-HIP-KNEE-HRRP')"
   ]
  },
  {
   "cell_type": "code",
   "execution_count": 21,
   "metadata": {},
   "outputs": [],
   "source": [
    "total_discharged = discharges_readmissions_by_type('READM-30-HIP-KNEE-HRRP')[0][0] + discharges_readmissions_by_type('READM-30-HIP-KNEE-HRRP')[2][0]\n",
    "    \n",
    "total_readmitted = discharges_readmissions_by_type('READM-30-HIP-KNEE-HRRP')[0][1] + discharges_readmissions_by_type('READM-30-HIP-KNEE-HRRP')[2][1]\n",
    "\n",
    "shared_sample_freq = total_readmitted / total_discharged\n",
    "denominator = discharges_readmissions_by_type('READM-30-HIP-KNEE-HRRP')[0][0] * discharges_readmissions_by_type('READM-30-HIP-KNEE-HRRP')[2][0]\n",
    "\n",
    "shared_sample_variance = total_discharged * (shared_sample_freq * (1 - shared_sample_freq)) / denominator\n",
    "\n",
    "difference_in_proportions = stats.norm(0, np.sqrt(shared_sample_variance))"
   ]
  },
  {
   "cell_type": "code",
   "execution_count": 22,
   "metadata": {},
   "outputs": [],
   "source": [
    "difference_in_sample_proportions = discharges_readmissions_by_type('READM-30-HIP-KNEE-HRRP')[0][2] - discharges_readmissions_by_type('READM-30-HIP-KNEE-HRRP')[2][2]"
   ]
  },
  {
   "cell_type": "code",
   "execution_count": 23,
   "metadata": {},
   "outputs": [
    {
     "data": {
      "text/plain": [
       "0.010875191669203421"
      ]
     },
     "execution_count": 23,
     "metadata": {},
     "output_type": "execute_result"
    }
   ],
   "source": [
    "difference_in_sample_proportions"
   ]
  },
  {
   "cell_type": "code",
   "execution_count": 25,
   "metadata": {},
   "outputs": [
    {
     "data": {
      "text/plain": [
       "0.0"
      ]
     },
     "execution_count": 25,
     "metadata": {},
     "output_type": "execute_result"
    }
   ],
   "source": [
    "p_value = 1 - difference_in_proportions.cdf(difference_in_sample_proportions)\n",
    "p_value"
   ]
  },
  {
   "cell_type": "code",
   "execution_count": null,
   "metadata": {},
   "outputs": [],
   "source": []
  },
  {
   "cell_type": "code",
   "execution_count": null,
   "metadata": {},
   "outputs": [],
   "source": []
  },
  {
   "cell_type": "code",
   "execution_count": 26,
   "metadata": {},
   "outputs": [
    {
     "data": {
      "text/plain": [
       "Ttest_indResult(statistic=-8.134923457842765, pvalue=1.314373319312116e-12)"
      ]
     },
     "execution_count": 26,
     "metadata": {},
     "output_type": "execute_result"
    }
   ],
   "source": [
    "a = filter(filter(data_dept,'Measure Name','READM-30-HIP-KNEE-HRRP'),'Type', 'Specialized')['Readmissions Rate']\n",
    "b = filter(filter(data_dept,'Measure Name','READM-30-HIP-KNEE-HRRP'),'Type', 'General')['Readmissions Rate']\n",
    "stats.ttest_ind(a,b, equal_var=False,nan_policy='omit')"
   ]
  },
  {
   "cell_type": "code",
   "execution_count": null,
   "metadata": {},
   "outputs": [],
   "source": []
  },
  {
   "cell_type": "code",
   "execution_count": null,
   "metadata": {},
   "outputs": [],
   "source": []
  },
  {
   "cell_type": "code",
   "execution_count": 27,
   "metadata": {},
   "outputs": [
    {
     "data": {
      "text/plain": [
       "(81244.0, 2446.0, 0.030106838658854808, 722829.0, 29623.0, 0.04098203032805823)"
      ]
     },
     "execution_count": 27,
     "metadata": {},
     "output_type": "execute_result"
    }
   ],
   "source": [
    "dis_sp=filter(filter(data_dept,'Measure Name','READM-30-HIP-KNEE-HRRP'),'Type', 'Specialized')['Number of Discharges'].sum()\n",
    "read_sp=filter(filter(data_dept,'Measure Name','READM-30-HIP-KNEE-HRRP'),'Type', 'Specialized')['Number of Readmissions'].sum()\n",
    "\n",
    "dis_g=filter(filter(data_dept,'Measure Name','READM-30-HIP-KNEE-HRRP'),'Type', 'General')['Number of Discharges'].sum()\n",
    "read_g=filter(filter(data_dept,'Measure Name','READM-30-HIP-KNEE-HRRP'),'Type', 'General')['Number of Readmissions'].sum()\n",
    "\n",
    "dis_sp, read_sp, read_sp/dis_sp, dis_g, read_g, read_g/dis_g"
   ]
  },
  {
   "cell_type": "code",
   "execution_count": 33,
   "metadata": {},
   "outputs": [],
   "source": [
    "binomial = stats.binom(n=81244, p=read_sp/dis_sp)"
   ]
  },
  {
   "cell_type": "code",
   "execution_count": 34,
   "metadata": {},
   "outputs": [
    {
     "data": {
      "text/plain": [
       "3329.5440719727626"
      ]
     },
     "execution_count": 34,
     "metadata": {},
     "output_type": "execute_result"
    }
   ],
   "source": [
    "read_g/dis_g * 81244"
   ]
  },
  {
   "cell_type": "code",
   "execution_count": 35,
   "metadata": {},
   "outputs": [
    {
     "data": {
      "text/plain": [
       "1.1102230246251565e-16"
      ]
     },
     "execution_count": 35,
     "metadata": {},
     "output_type": "execute_result"
    }
   ],
   "source": [
    "prob_equal_or_more_extreme = 1 - binomial.cdf(3329)\n",
    "prob_equal_or_more_extreme"
   ]
  },
  {
   "cell_type": "code",
   "execution_count": null,
   "metadata": {},
   "outputs": [],
   "source": []
  }
 ],
 "metadata": {
  "kernelspec": {
   "display_name": "Python 3",
   "language": "python",
   "name": "python3"
  },
  "language_info": {
   "codemirror_mode": {
    "name": "ipython",
    "version": 3
   },
   "file_extension": ".py",
   "mimetype": "text/x-python",
   "name": "python",
   "nbconvert_exporter": "python",
   "pygments_lexer": "ipython3",
   "version": "3.7.7"
  }
 },
 "nbformat": 4,
 "nbformat_minor": 4
}
